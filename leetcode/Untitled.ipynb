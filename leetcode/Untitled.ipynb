{
 "cells": [
  {
   "cell_type": "code",
   "execution_count": 1,
   "id": "44a25a0e-4e8d-4726-886c-14d245dc1649",
   "metadata": {},
   "outputs": [
    {
     "name": "stdout",
     "output_type": "stream",
     "text": [
      "lEOtcede\n",
      "lYmph\n"
     ]
    }
   ],
   "source": [
    "def sortVowels(s) -> str:\n",
    "    v_list = []\n",
    "    v_index = []\n",
    "    sorted_str = []\n",
    "    for i in range(len(s)):\n",
    "        letter = s[i]\n",
    "        sorted_str.append(letter)\n",
    "        if letter.lower() in [\"a\", \"e\", \"i\", \"o\", \"u\"]:\n",
    "            v_list.append(letter)\n",
    "            v_index.append(i)\n",
    "    v_list.sort()\n",
    "    for i in range(len(v_index)):\n",
    "        sorted_str[v_index[i]] = v_list[i]\n",
    "    return \"\".join(sorted_str)\n",
    "\n",
    "\n",
    "print(sortVowels(\"lEetcOde\"))\n",
    "print(sortVowels(\"lYmph\"))"
   ]
  },
  {
   "cell_type": "code",
   "execution_count": null,
   "id": "841b5dee-74b7-4321-b5f4-9a80f429028e",
   "metadata": {},
   "outputs": [],
   "source": []
  }
 ],
 "metadata": {
  "kernelspec": {
   "display_name": "Python 3 (ipykernel)",
   "language": "python",
   "name": "python3"
  },
  "language_info": {
   "codemirror_mode": {
    "name": "ipython",
    "version": 3
   },
   "file_extension": ".py",
   "mimetype": "text/x-python",
   "name": "python",
   "nbconvert_exporter": "python",
   "pygments_lexer": "ipython3",
   "version": "3.12.7"
  }
 },
 "nbformat": 4,
 "nbformat_minor": 5
}
